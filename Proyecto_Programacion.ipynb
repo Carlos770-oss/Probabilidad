{
 "cells": [
  {
   "cell_type": "code",
   "execution_count": null,
   "id": "c4ed8cd2-f108-4882-b3be-eb2ba8d86d0c",
   "metadata": {},
   "outputs": [],
   "source": [
    "import pandas as pd\n",
    "\n",
    "#Probando\n",
    "#Probando 2\n",
    "#Probando 3"
   ]
  }
 ],
 "metadata": {
  "kernelspec": {
   "display_name": "Python 3 (ipykernel)",
   "language": "python",
   "name": "python3"
  },
  "language_info": {
   "codemirror_mode": {
    "name": "ipython",
    "version": 3
   },
   "file_extension": ".py",
   "mimetype": "text/x-python",
   "name": "python",
   "nbconvert_exporter": "python",
   "pygments_lexer": "ipython3",
   "version": "3.12.5"
  }
 },
 "nbformat": 4,
 "nbformat_minor": 5
}
