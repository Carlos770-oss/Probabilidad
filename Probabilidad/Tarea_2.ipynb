{
 "cells": [
  {
   "cell_type": "markdown",
   "id": "4914ba2c-d301-47eb-bdc1-cdca945bac67",
   "metadata": {},
   "source": [
    "\n",
    "\n",
    "**EJERCICIO 1**\n",
    "\n",
    "Alice tiene 2 hijos y uno de ellos es niña. ¿Cuál es la probabilidad dque el otro hijo también sea niña?\n",
    "\n",
    "\n",
    "Dado que el género de un hijo es independiente al de los que previamente se tuvo, para el nuevo hijo (o hija) la probabilidad de ser niña es de 1/2 (dos escenarios, niño o niña)\n",
    "\n"
   ]
  },
  {
   "cell_type": "code",
   "execution_count": null,
   "id": "a26768a9-862d-47c2-9dd0-705400bd66c8",
   "metadata": {},
   "outputs": [],
   "source": [
    "** EJERCICIO 2 **\n",
    "\n",
    "Un dado justo se tira 2 veces. ¿Cuál es la probabilidad de obtener un 2 en la primera tirada y no tener un 4 en la segunda tirada?\n",
    "\n",
    "El espacio muestral de cada tirada es {1,2,3,4,5,6}\n",
    "En la primera tirada la probabilidad de obtener 2 es de 1/6\n",
    "  "
   ]
  }
 ],
 "metadata": {
  "kernelspec": {
   "display_name": "Python 3 (ipykernel)",
   "language": "python",
   "name": "python3"
  },
  "language_info": {
   "codemirror_mode": {
    "name": "ipython",
    "version": 3
   },
   "file_extension": ".py",
   "mimetype": "text/x-python",
   "name": "python",
   "nbconvert_exporter": "python",
   "pygments_lexer": "ipython3",
   "version": "3.12.5"
  }
 },
 "nbformat": 4,
 "nbformat_minor": 5
}
